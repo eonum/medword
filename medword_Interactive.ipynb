{
 "cells": [
  {
   "cell_type": "code",
   "execution_count": 2,
   "metadata": {
    "collapsed": false,
    "deletable": true,
    "editable": true
   },
   "outputs": [],
   "source": [
    "### Interactive medword testing tool ###\n",
    "\n",
    "import json\n",
    "import preprocess as pp\n",
    "import embedding\n",
    "import model_validation as mv\n",
    "import shared.load_config \n",
    "\n",
    "# Load configuration (don't change)\n",
    "config = shared.load_config.Configuration('configuration.json')\n"
   ]
  },
  {
   "cell_type": "code",
   "execution_count": 3,
   "metadata": {
    "collapsed": false,
    "deletable": true,
    "editable": true
   },
   "outputs": [],
   "source": [
    "### Make your own settings ###\n",
    "\n",
    "# where to get the raw *txt files for preprocessing\n",
    "raw_data_dir = 'dev_data/train_data/raw_data/'\n",
    "\n",
    "# where to store preprocessing output\n",
    "train_data_src = 'dev_data/train_data/train.txt'\n",
    "\n",
    "# where to store trained embedding model\n",
    "emb_model_src = 'dev_data/embeddings/emb_model.bin'\n"
   ]
  },
  {
   "cell_type": "code",
   "execution_count": 4,
   "metadata": {
    "collapsed": false,
    "deletable": true,
    "editable": true
   },
   "outputs": [
    {
     "name": "stdout",
     "output_type": "stream",
     "text": [
      "['asdf', 'asdf', 'asdf', 'ein', 'arzt', 'bzw', 'eine', 'aerztin', 'ist', 'ein', 'medizinisch', 'ausgebildeter', 'heilkundiger', 'beschaeftigt', 'sich', 'mit', 'der', 'vorbeugung', 'praevention', 'erkennung', 'diagnose', 'behandlung', 'therapie', 'und', 'nachsorge', 'von', 'krankheiten', 'und', 'leiden', 'bzw', 'gesundheitlichen', 'beeintraechtigungen', 'und', 'stellt', 'sich', 'damit', 'in', 'den', 'dienst', 'der', 'gesundheit']\n"
     ]
    }
   ],
   "source": [
    "### choose your tokenizer for the prepocessing and validation ###\n",
    "\n",
    "## NonStemmingTokenizer: 'nst'\n",
    "# - no stemming, only remove punctuation marks\n",
    "# - lowercase letters\n",
    "config.config['tokenizer'] = 'nst'\n",
    "\n",
    "## SimpleGermanTokenizer: 'sgt'\n",
    "# - remove punctuation marks\n",
    "# - stemming\n",
    "# - lowercase letters\n",
    "# config.config['tokenizer'] = 'sgt'\n",
    "\n",
    "# test the chosen tokenizer\n",
    "tokenizer = pp.get_tokenizer(config)\n",
    "example = \"\"\"!! „asdf“ 'asdf' \"asdf\" ??Ein Arzt bzw. eine Ärztin ist ein medizinisch\\n \\n \n",
    "             ausgebildeter Heilkundiger, beschäftigt sich mit der\n",
    "             Vorbeugung (Prävention), [Erkennung] (Diagnose),\n",
    "             Behandlung (Therapie) [...] und Nachsorge von Krankheiten\n",
    "             und Leiden bzw. gesundheitlichen Beeinträchtigungen,\n",
    "             und stellt sich damit in den Dienst der Gesundheit.\"\"\"\n",
    "             \n",
    "tk_example = tokenizer.tokenize(str(example))\n",
    "\n",
    "print(tk_example)"
   ]
  },
  {
   "cell_type": "code",
   "execution_count": 5,
   "metadata": {
    "collapsed": false,
    "deletable": true,
    "editable": true
   },
   "outputs": [
    {
     "name": "stdout",
     "output_type": "stream",
     "text": [
      "Creating new training data. \n",
      "Using this Tokenizer:  NonStemmingTokenizer\n",
      "Making tokenSet from directory ' dev_data/train_data/raw_data/ '\n",
      "Found 6165 different tokens in 32 articles, total training size: 17391 tokens.\n"
     ]
    }
   ],
   "source": [
    "### compute new training data from raw *txt files ###\n",
    "\n",
    "# note: if you don't compute new training data, you must provide them\n",
    "#       at train_data_src for training a new model\n",
    "COMPUTE_NEW_TRAIN_DATA = True\n",
    "\n",
    "# compute new train data if needed\n",
    "if (COMPUTE_NEW_TRAIN_DATA):\n",
    "    pp.create_train_data(train_data_src, raw_data_dir, config)\n"
   ]
  },
  {
   "cell_type": "code",
   "execution_count": 6,
   "metadata": {
    "collapsed": false,
    "deletable": true,
    "editable": true
   },
   "outputs": [
    {
     "name": "stdout",
     "output_type": "stream",
     "text": [
      "Start training the model.\n",
      "Training finsihed. \n",
      "Model saved at: dev_data/embeddings/emb_model.bin\n"
     ]
    }
   ],
   "source": [
    "### train a new model on your training data ###\n",
    "\n",
    "# note: if you don't train a new model, you must provide it\n",
    "#       at emb_model_src for validation\n",
    "TRAIN_NEW_MODEL = True\n",
    "\n",
    "# dimension of embedding vectors\n",
    "config.config['embedding_vector_dim'] = 400\n",
    "\n",
    "# minimum number of appearence fore a token to be considered in the \n",
    "# model (you may want to ignore rare tokens)\n",
    "config.config['min_token_appearance'] = 1\n",
    "\n",
    "\n",
    "# train embeddings using word2vec\n",
    "if (TRAIN_NEW_MODEL):\n",
    "    embedding.make_emb_from_file(train_data_src, emb_model_src, config)\n",
    "\n"
   ]
  },
  {
   "cell_type": "code",
   "execution_count": 8,
   "metadata": {
    "collapsed": false
   },
   "outputs": [
    {
     "name": "stdout",
     "output_type": "stream",
     "text": [
      "Start validation. Loading model. \n",
      "\n",
      "Validating 'doesntfit' with file data/validation_data/german_doesntfit1.txt\n",
      "\n",
      "*** Doesn't fit ***\n",
      "Doesn't fit correct:  18.2% (2/11)\n",
      "Doesn't fit coverage: 10.0% (11/110) \n",
      "\n",
      "Validating 'synonyms' with file data/validation_data/german_synonyms3.txt\n",
      "Synonyms: 42175 pairs in input. 31 pairs in model-vocabulary.\n",
      "\n",
      "*** Cosine-Similarity ***\n",
      "Synonyms avg-cos-similarity (SACS): 0.0410093004673 \n",
      "Random avg-cos-similarity (RACS): 0.000848137110041 \n",
      "Ratio SACS/RACS: 48.3522062433\n",
      "\n",
      "*** Synonym Recognition ***\n",
      "Synonyms correct:  1.6% (1/62), checked 40 closest embedding-vectors.checked per word.\n",
      "Synonyms coverage: 0.1% (62/84350)\n",
      "\n"
     ]
    }
   ],
   "source": [
    "### Validation of the embedding model ###\n",
    "\n",
    "# Choose test files from your validation folder\n",
    "config.config['doesntfit_file'] = 'german_doesntfit1.txt'\n",
    "config.config['synonyms_file'] = 'german_synonyms3.txt'\n",
    "\n",
    "\n",
    "model = mv.validate_model(emb_model_src, config)"
   ]
  },
  {
   "cell_type": "code",
   "execution_count": 9,
   "metadata": {
    "collapsed": false
   },
   "outputs": [
    {
     "name": "stdout",
     "output_type": "stream",
     "text": [
      "vocab-size: 6166\n"
     ]
    }
   ],
   "source": [
    "### Get model information ###\n",
    "print(\"vocab-size:\", model.vocab.size)  # note that the token '</s>' is \n",
    "                                        # always added to the model\n",
    "\n"
   ]
  },
  {
   "cell_type": "code",
   "execution_count": null,
   "metadata": {
    "collapsed": true
   },
   "outputs": [],
   "source": []
  }
 ],
 "metadata": {
  "kernelspec": {
   "display_name": "Python 3",
   "language": "python",
   "name": "python3"
  },
  "language_info": {
   "codemirror_mode": {
    "name": "ipython",
    "version": 3
   },
   "file_extension": ".py",
   "mimetype": "text/x-python",
   "name": "python",
   "nbconvert_exporter": "python",
   "pygments_lexer": "ipython3",
   "version": "3.6.0"
  }
 },
 "nbformat": 4,
 "nbformat_minor": 0
}
