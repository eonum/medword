{
 "cells": [
  {
   "cell_type": "code",
   "execution_count": 15,
   "metadata": {
    "collapsed": false,
    "deletable": true,
    "editable": true
   },
   "outputs": [],
   "source": [
    "%matplotlib inline\n",
    "### Interactive medword testing tool ###\n",
    "\n",
    "import preprocess as pp\n",
    "import embedding\n",
    "import model_validation as mv\n",
    "import shared.load_config \n",
    "import json\n",
    "import pylab\n",
    "import os\n",
    "import word2vec as w2v\n",
    "\n",
    "pp.setup()"
   ]
  },
  {
   "cell_type": "code",
   "execution_count": 16,
   "metadata": {
    "collapsed": true,
    "deletable": true,
    "editable": true
   },
   "outputs": [],
   "source": [
    "### script settings ###\n",
    "\n",
    "# if you want to compute new training data from raw-data\n",
    "COMPUTE_NEW_TRAIN_DATA = True\n",
    "# note: if you don't compute new training data, you must provide them\n",
    "#       at train_data_src for training a new model\n",
    "\n",
    "\n",
    "# if you want to train a new model on training data\n",
    "TRAIN_NEW_MODEL = True\n",
    "# note: if you don't train a new model, you must provide it\n",
    "#       at emb_model_src for the validation step"
   ]
  },
  {
   "cell_type": "code",
   "execution_count": 17,
   "metadata": {
    "collapsed": false,
    "deletable": true,
    "editable": true
   },
   "outputs": [],
   "source": [
    "### define filepaths and names ###\n",
    "#\n",
    "# Note: when generating training data, all *.txt files in any subdirectory of \n",
    "#       raw_data_dir are considered. If you save the generated train_data in the\n",
    "#       same folder (raw_data_dir), it will be used as raw_data input in a \n",
    "#       following run (undesired).\n",
    "\n",
    "# where to get the configuration file\n",
    "config_data_dir = ''\n",
    "config_filename = 'configuration.json'\n",
    "\n",
    "# where to get the raw *txt files for preprocessing\n",
    "raw_data_dir = 'dev_data/train_data/raw_data/'\n",
    "\n",
    "# where to store preprocessing output\n",
    "train_data_src = 'dev_data/train_data/train.txt'\n",
    "\n",
    "# where to store trained embedding model\n",
    "emb_model_dir = 'dev_data/embeddings/'\n",
    "emb_model_filename = 'emb_model.bin'\n",
    "emb_model_src = os.path.join(emb_model_dir, emb_model_filename)\n",
    "\n",
    "# Load configuration (don't change)\n",
    "config_src = os.path.join(config_data_dir, config_filename)\n",
    "config = shared.load_config.Configuration(config_src)"
   ]
  },
  {
   "cell_type": "code",
   "execution_count": 18,
   "metadata": {
    "collapsed": false,
    "deletable": true,
    "editable": true
   },
   "outputs": [
    {
     "name": "stdout",
     "output_type": "stream",
     "text": [
      "['asdf', 'asdf', 'asdf', 'ein', 'arzt', 'bzw', 'eine', 'aerztin', 'ist', 'ein', 'medizinisch', 'ausgebildeter', 'heilkundiger', 'beschaeftigt', 'sich', 'mit', 'der', 'vorbeugung', 'praevention', 'erkennung', 'diagnose', 'behandlung', 'therapie', 'und', 'nachsorge', 'von', 'krankheiten', 'und', 'leiden', 'bzw', 'gesundheitlichen', 'beeintraechtigungen', 'und', 'stellt', 'sich', 'damit', 'in', 'den', 'dienst', 'der', 'gesundheit']\n"
     ]
    }
   ],
   "source": [
    "### choose your tokenizer for the prepocessing and validation ###\n",
    "\n",
    "## NonStemmingTokenizer: 'nst'\n",
    "# - no stemming, only remove punctuation marks\n",
    "# - lowercase letters\n",
    "config.config['tokenizer'] = 'nst'\n",
    "\n",
    "## SimpleGermanTokenizer: 'sgt'\n",
    "# - remove punctuation marks\n",
    "# - stemming\n",
    "# - lowercase letters\n",
    "# config.config['tokenizer'] = 'sgt'\n",
    "\n",
    "# test the chosen tokenizer\n",
    "tokenizer = pp.get_tokenizer(config)\n",
    "example = \"\"\"!! „asdf“ 'asdf' \"asdf\" ??Ein Arzt bzw. eine Ärztin ist ein medizinisch\\n \\n \n",
    "             ausgebildeter Heilkundiger, beschäftigt sich mit der\n",
    "             Vorbeugung (Prävention), [Erkennung] (Diagnose),\n",
    "             Behandlung (Therapie) [...] und Nachsorge von Krankheiten\n",
    "             und Leiden bzw. gesundheitlichen Beeinträchtigungen,\n",
    "             und stellt sich damit in den Dienst der Gesundheit.\"\"\"\n",
    "             \n",
    "tk_example = tokenizer.tokenize(str(example))\n",
    "\n",
    "print(tk_example)"
   ]
  },
  {
   "cell_type": "code",
   "execution_count": 19,
   "metadata": {
    "collapsed": false,
    "deletable": true,
    "editable": true
   },
   "outputs": [
    {
     "name": "stdout",
     "output_type": "stream",
     "text": [
      "Creating new training data. \n",
      "Using this Tokenizer:  NonStemmingTokenizer\n",
      "Making tokenSet from directory ' dev_data/train_data/raw_data/ '\n",
      "Found 2626 different tokens in 17 articles, total training size: 6495 tokens.\n"
     ]
    }
   ],
   "source": [
    "### compute new training data from raw *txt files ###\n",
    "\n",
    "# compute new train data if needed\n",
    "if (COMPUTE_NEW_TRAIN_DATA):\n",
    "    pp.create_train_data(train_data_src, raw_data_dir, config)"
   ]
  },
  {
   "cell_type": "code",
   "execution_count": 20,
   "metadata": {
    "collapsed": false,
    "deletable": true,
    "editable": true
   },
   "outputs": [
    {
     "name": "stdout",
     "output_type": "stream",
     "text": [
      "Start training the model.\n",
      "Training finsihed. \n",
      "Model saved at: dev_data/embeddings/emb_model.bin\n"
     ]
    }
   ],
   "source": [
    "### train a new model on your training data ###\n",
    "# note: the used configuration file is saved together with the model\n",
    "#       in the emb_model_dir\n",
    "#\n",
    "\n",
    "# dimension of embedding vectors\n",
    "config.config['embedding_vector_dim'] = 400\n",
    "\n",
    "# minimum number of appearence fore a token to be considered in the \n",
    "# model (you may want to ignore rare tokens)\n",
    "config.config['min_token_appearance'] = 1\n",
    "\n",
    "\n",
    "# train embeddings using word2vec\n",
    "if (TRAIN_NEW_MODEL):\n",
    "    embedding.make_emb_from_file(train_data_src, emb_model_dir, emb_model_filename, config)"
   ]
  },
  {
   "cell_type": "code",
   "execution_count": 10,
   "metadata": {
    "collapsed": false,
    "deletable": true,
    "editable": true
   },
   "outputs": [
    {
     "name": "stdout",
     "output_type": "stream",
     "text": [
      "Start validation. Loading model. \n",
      "\n",
      "Validating 'doesntfit' with file data/validation_data/german_doesntfit1.txt\n",
      "\n",
      "*** Doesn't fit ***\n",
      "Doesn't fit correct:  33.3% (1/3)\n",
      "Doesn't fit coverage: 2.7% (3/110) \n",
      "\n",
      "Validating 'synonyms' with file data/validation_data/german_synonyms3.txt\n",
      "Synonyms: 42175 pairs in input. 8 pairs in model-vocabulary.\n",
      "\n",
      "*** Cosine-Similarity ***\n",
      "Synonyms avg-cos-similarity (SACS): 0.102488938867 \n",
      "Random avg-cos-similarity (RACS): 0.000803612063915 \n",
      "Ratio SACS/RACS: 127.535341328\n",
      "\n",
      "*** Synonym Recognition ***\n",
      "Synonyms correct:  0.0% (0/16), checked 40 closest embedding-vectors.checked per word.\n",
      "Synonyms coverage: 0.0% (16/84350)\n",
      "\n"
     ]
    }
   ],
   "source": [
    "### Validation of the embedding model ###\n",
    "\n",
    "# Choose test files from your validation folder\n",
    "config.config['doesntfit_file'] = 'german_doesntfit1.txt'\n",
    "config.config['synonyms_file'] = 'german_synonyms3.txt'\n",
    "\n",
    "\n",
    "model = mv.validate_model(emb_model_src, config)"
   ]
  },
  {
   "cell_type": "code",
   "execution_count": 21,
   "metadata": {
    "collapsed": false,
    "deletable": true,
    "editable": true
   },
   "outputs": [
    {
     "name": "stdout",
     "output_type": "stream",
     "text": [
      "vocab_size: 2627\n",
      "vectors_shape: (2627, 400)\n"
     ]
    }
   ],
   "source": [
    "### Get model information ###\n",
    "print(\"vocab_size:\", model.vocab.size)  # note that the token '</s>' is \n",
    "                                        # always added to the model\n",
    "    \n",
    "print(\"vectors_shape:\", model.vectors.shape)"
   ]
  },
  {
   "cell_type": "code",
   "execution_count": 22,
   "metadata": {
    "collapsed": false,
    "deletable": true,
    "editable": true
   },
   "outputs": [
    {
     "data": {
      "text/plain": [
       "[('konzepte', 0.14198459619101203),\n",
       " ('aufgefasst', 0.13929239676179403),\n",
       " ('ernaehrungsreform', 0.13558294221976325),\n",
       " ('wesentlichen', 0.12781836202735872),\n",
       " ('heinz', 0.12737330027692342),\n",
       " ('technischen', 0.12616133953016065),\n",
       " ('dr', 0.12572437557438748),\n",
       " ('ferrara', 0.12471720850043111),\n",
       " ('richtet', 0.12371120947431118),\n",
       " ('externum', 0.1218850779960024)]"
      ]
     },
     "execution_count": 22,
     "metadata": {},
     "output_type": "execute_result"
    }
   ],
   "source": [
    "### Play with model ###\n",
    "\n",
    "# define a word from which you like to see it's n-nearest neighbours \n",
    "# in the embedding space\n",
    "word = 'arzt'\n",
    "n_nearest_neighbours = 10\n",
    "\n",
    "# create list of neighbours\n",
    "indexes, metrics = model.cosine(word, n_nearest_neighbours)\n",
    "model.generate_response(indexes, metrics).tolist()"
   ]
  },
  {
   "cell_type": "code",
   "execution_count": 23,
   "metadata": {
    "collapsed": false,
    "deletable": true,
    "editable": true
   },
   "outputs": [
    {
     "name": "stdout",
     "output_type": "stream",
     "text": [
      "[ 0.02345062  0.05238208  0.04931071 -0.06052622  0.03699357  0.03486539\n",
      "  0.07702528 -0.08502589  0.08610728 -0.02612908]\n"
     ]
    }
   ],
   "source": [
    "# Get a vector of a word\n",
    "vec1 = model['arzt'] \n",
    "# or\n",
    "vec2 = model.get_vector('arzt')\n",
    "\n",
    "print(vec1[:10])"
   ]
  },
  {
   "cell_type": "code",
   "execution_count": 24,
   "metadata": {
    "collapsed": false,
    "deletable": true,
    "editable": true
   },
   "outputs": [],
   "source": [
    "### Load model separately if desired ###\n",
    "# note: also loaded in mv.validate_model() ###\n",
    "model = w2v.load(emb_model_src)"
   ]
  },
  {
   "cell_type": "code",
   "execution_count": 25,
   "metadata": {
    "collapsed": false,
    "deletable": true,
    "editable": true
   },
   "outputs": [
    {
     "data": {
      "image/png": "[encoded data removed]",
      "text/plain": [
       "<matplotlib.figure.Figure at 0x1121fe3c8>"
      ]
     },
     "metadata": {},
     "output_type": "display_data"
    }
   ],
   "source": [
    "### Visualization ###\n",
    "# From a list of words, plot all words and it's neighbours \n",
    "\n",
    "# define the words you would like to visualize\n",
    "word_list = ['arzt', 'haus', 'natur']\n",
    "\n",
    "# define the number of closest neighbors to display per word\n",
    "n_nearest_neighbours = 5\n",
    "\n",
    "# change figure size if desired\n",
    "width = 10.0\n",
    "height = 8.0\n",
    "pylab.rcParams['figure.figsize'] = (width, height)\n",
    "\n",
    "# plotting\n",
    "mv.visualize_words(model, word_list, n_nearest_neighbours)"
   ]
  },
  {
   "cell_type": "code",
   "execution_count": null,
   "metadata": {
    "collapsed": true,
    "deletable": true,
    "editable": true
   },
   "outputs": [],
   "source": [
    ""
   ]
  }
 ],
 "metadata": {
  "kernelspec": {
   "display_name": "Python 3",
   "language": "python",
   "name": "python3"
  },
  "language_info": {
   "codemirror_mode": {
    "name": "ipython",
    "version": 3.0
   },
   "file_extension": ".py",
   "mimetype": "text/x-python",
   "name": "python",
   "nbconvert_exporter": "python",
   "pygments_lexer": "ipython3",
   "version": "3.6.0"
  }
 },
 "nbformat": 4,
 "nbformat_minor": 0
}