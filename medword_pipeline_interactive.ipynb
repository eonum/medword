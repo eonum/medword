{
 "cells": [
  {
   "cell_type": "code",
   "execution_count": 21,
   "metadata": {
    "collapsed": false,
    "deletable": true,
    "editable": true
   },
   "outputs": [],
   "source": [
    "%matplotlib inline\n",
    "### Interactive medword testing tool ###\n",
    "\n",
    "import preprocess as pp\n",
    "import embedding\n",
    "import model_validation as mv\n",
    "import shared.load_config \n",
    "import json\n",
    "import pylab\n",
    "import os\n"
   ]
  },
  {
   "cell_type": "code",
   "execution_count": 12,
   "metadata": {
    "collapsed": true,
    "deletable": true,
    "editable": true
   },
   "outputs": [],
   "source": [
    "### script settings ###\n",
    "\n",
    "# if you want to compute new training data from raw-data\n",
    "COMPUTE_NEW_TRAIN_DATA = True\n",
    "# note: if you don't compute new training data, you must provide them\n",
    "#       at train_data_src for training a new model\n",
    "\n",
    "\n",
    "# if you want to train a new model on training data\n",
    "TRAIN_NEW_MODEL = True\n",
    "# note: if you don't train a new model, you must provide it\n",
    "#       at emb_model_src for the validation step\n"
   ]
  },
  {
   "cell_type": "code",
   "execution_count": 13,
   "metadata": {
    "collapsed": false,
    "deletable": true,
    "editable": true
   },
   "outputs": [],
   "source": [
    "### define filepaths and names ###\n",
    "#\n",
    "# Note: when generating training data, all *.txt files in any subdirectory of \n",
    "#       raw_data_dir are considered. If you save the generated train_data in the\n",
    "#       same folder (raw_data_dir), it will be used as raw_data input in a \n",
    "#       following run (undesired).\n",
    "\n",
    "# where to get the configuration file\n",
    "config_data_dir = ''\n",
    "config_filename = 'configuration.json'\n",
    "\n",
    "# where to get the raw *txt files for preprocessing\n",
    "raw_data_dir = 'dev_data/train_data/raw_data/'\n",
    "\n",
    "# where to store preprocessing output\n",
    "train_data_src = 'dev_data/train_data/train.txt'\n",
    "\n",
    "# where to store trained embedding model\n",
    "emb_model_dir = 'dev_data/embeddings/'\n",
    "emb_model_filename = 'emb_model.bin'\n",
    "emb_model_src = os.path.join(emb_model_dir, emb_model_filename)\n",
    "\n",
    "# Load configuration (don't change)\n",
    "config_src = os.path.join(config_data_dir, config_filename)\n",
    "config = shared.load_config.Configuration(config_src)\n"
   ]
  },
  {
   "cell_type": "code",
   "execution_count": 14,
   "metadata": {
    "collapsed": false,
    "deletable": true,
    "editable": true
   },
   "outputs": [
    {
     "name": "stdout",
     "output_type": "stream",
     "text": [
      "['asdf', 'asdf', 'asdf', 'ein', 'arzt', 'bzw', 'eine', 'aerztin', 'ist', 'ein', 'medizinisch', 'ausgebildeter', 'heilkundiger', 'beschaeftigt', 'sich', 'mit', 'der', 'vorbeugung', 'praevention', 'erkennung', 'diagnose', 'behandlung', 'therapie', 'und', 'nachsorge', 'von', 'krankheiten', 'und', 'leiden', 'bzw', 'gesundheitlichen', 'beeintraechtigungen', 'und', 'stellt', 'sich', 'damit', 'in', 'den', 'dienst', 'der', 'gesundheit']\n"
     ]
    }
   ],
   "source": [
    "### choose your tokenizer for the prepocessing and validation ###\n",
    "\n",
    "## NonStemmingTokenizer: 'nst'\n",
    "# - no stemming, only remove punctuation marks\n",
    "# - lowercase letters\n",
    "config.config['tokenizer'] = 'nst'\n",
    "\n",
    "## SimpleGermanTokenizer: 'sgt'\n",
    "# - remove punctuation marks\n",
    "# - stemming\n",
    "# - lowercase letters\n",
    "# config.config['tokenizer'] = 'sgt'\n",
    "\n",
    "# test the chosen tokenizer\n",
    "tokenizer = pp.get_tokenizer(config)\n",
    "example = \"\"\"!! „asdf“ 'asdf' \"asdf\" ??Ein Arzt bzw. eine Ärztin ist ein medizinisch\\n \\n \n",
    "             ausgebildeter Heilkundiger, beschäftigt sich mit der\n",
    "             Vorbeugung (Prävention), [Erkennung] (Diagnose),\n",
    "             Behandlung (Therapie) [...] und Nachsorge von Krankheiten\n",
    "             und Leiden bzw. gesundheitlichen Beeinträchtigungen,\n",
    "             und stellt sich damit in den Dienst der Gesundheit.\"\"\"\n",
    "             \n",
    "tk_example = tokenizer.tokenize(str(example))\n",
    "\n",
    "print(tk_example)"
   ]
  },
  {
   "cell_type": "code",
   "execution_count": 15,
   "metadata": {
    "collapsed": false,
    "deletable": true,
    "editable": true
   },
   "outputs": [
    {
     "name": "stdout",
     "output_type": "stream",
     "text": [
      "Creating new training data. \n",
      "Using this Tokenizer:  NonStemmingTokenizer\n",
      "Making tokenSet from directory ' dev_data/train_data/raw_data/ '\n",
      "Found 6165 different tokens in 32 articles, total training size: 17391 tokens.\n"
     ]
    }
   ],
   "source": [
    "### compute new training data from raw *txt files ###\n",
    "\n",
    "# compute new train data if needed\n",
    "if (COMPUTE_NEW_TRAIN_DATA):\n",
    "    pp.create_train_data(train_data_src, raw_data_dir, config)\n"
   ]
  },
  {
   "cell_type": "code",
   "execution_count": 16,
   "metadata": {
    "collapsed": false,
    "deletable": true,
    "editable": true
   },
   "outputs": [
    {
     "name": "stdout",
     "output_type": "stream",
     "text": [
      "Start training the model.\n",
      "Training finsihed. \n",
      "Model saved at: dev_data/embeddings/emb_model.bin\n"
     ]
    }
   ],
   "source": [
    "### train a new model on your training data ###\n",
    "# note: the used configuration file is saved together with the model\n",
    "#       in the emb_model_dir\n",
    "#\n",
    "\n",
    "# dimension of embedding vectors\n",
    "config.config['embedding_vector_dim'] = 400\n",
    "\n",
    "# minimum number of appearence fore a token to be considered in the \n",
    "# model (you may want to ignore rare tokens)\n",
    "config.config['min_token_appearance'] = 1\n",
    "\n",
    "\n",
    "# train embeddings using word2vec\n",
    "if (TRAIN_NEW_MODEL):\n",
    "    embedding.make_emb_from_file(train_data_src, emb_model_dir, emb_model_filename, config)\n",
    "\n"
   ]
  },
  {
   "cell_type": "code",
   "execution_count": 9,
   "metadata": {
    "collapsed": false,
    "deletable": true,
    "editable": true
   },
   "outputs": [
    {
     "name": "stdout",
     "output_type": "stream",
     "text": [
      "Start validation. Loading model. \n",
      "\n",
      "Validating 'doesntfit' with file data/validation_data/german_doesntfit1.txt\n",
      "\n",
      "*** Doesn't fit ***\n",
      "Doesn't fit correct:  18.2% (2/11)\n",
      "Doesn't fit coverage: 10.0% (11/110) \n",
      "\n",
      "Validating 'synonyms' with file data/validation_data/german_synonyms3.txt\n",
      "Synonyms: 42175 pairs in input. 31 pairs in model-vocabulary.\n",
      "\n",
      "*** Cosine-Similarity ***\n",
      "Synonyms avg-cos-similarity (SACS): 0.0410129683617 \n",
      "Random avg-cos-similarity (RACS): 0.00228666547837 \n",
      "Ratio SACS/RACS: 17.9357097703\n",
      "\n",
      "*** Synonym Recognition ***\n",
      "Synonyms correct:  1.6% (1/62), checked 40 closest embedding-vectors.checked per word.\n",
      "Synonyms coverage: 0.1% (62/84350)\n",
      "\n"
     ]
    }
   ],
   "source": [
    "### Validation of the embedding model ###\n",
    "\n",
    "# Choose test files from your validation folder\n",
    "config.config['doesntfit_file'] = 'german_doesntfit1.txt'\n",
    "config.config['synonyms_file'] = 'german_synonyms3.txt'\n",
    "\n",
    "\n",
    "model = mv.validate_model(emb_model_src, config)"
   ]
  },
  {
   "cell_type": "code",
   "execution_count": 17,
   "metadata": {
    "collapsed": false,
    "deletable": true,
    "editable": true
   },
   "outputs": [
    {
     "name": "stdout",
     "output_type": "stream",
     "text": [
      "vocab_size: 6166\n",
      "vectors_shape: (6166, 400)\n"
     ]
    }
   ],
   "source": [
    "### Get model information ###\n",
    "print(\"vocab_size:\", model.vocab.size)  # note that the token '</s>' is \n",
    "                                        # always added to the model\n",
    "    \n",
    "print(\"vectors_shape:\", model.vectors.shape)\n"
   ]
  },
  {
   "cell_type": "code",
   "execution_count": 18,
   "metadata": {
    "collapsed": false,
    "deletable": true,
    "editable": true
   },
   "outputs": [
    {
     "data": {
      "text/plain": [
       "[('angeschlossen', 0.9999707613464475),\n",
       " ('angepasst', 0.17912709600035703),\n",
       " ('420', 0.1788920667645081),\n",
       " ('abgeschlossenes', 0.1748498132227946),\n",
       " ('vereinigten', 0.17434986330560953),\n",
       " ('begehrten', 0.16411835188608875),\n",
       " ('van', 0.154641710474051),\n",
       " ('geleistet', 0.15244302141713711),\n",
       " ('sp', 0.14056142908538416),\n",
       " ('dem', 0.13981930786278435)]"
      ]
     },
     "execution_count": 18,
     "metadata": {},
     "output_type": "execute_result"
    }
   ],
   "source": [
    "### Play with model ###\n",
    "\n",
    "# define a word from which you like to see it's n-nearest neighbours \n",
    "# in the embedding space\n",
    "word = 'arzt'\n",
    "n_nearest_neighbours = 10\n",
    "\n",
    "# create list of neighbours\n",
    "indexes, metrics = model.cosine(word, n_nearest_neighbours)\n",
    "model.generate_response(indexes, metrics).tolist()"
   ]
  },
  {
   "cell_type": "code",
   "execution_count": 19,
   "metadata": {
    "collapsed": false,
    "deletable": true,
    "editable": true
   },
   "outputs": [
    {
     "name": "stdout",
     "output_type": "stream",
     "text": [
      "[ 0.03370119 -0.02801373 -0.02305319  0.05594784 -0.03847235  0.06583931\n",
      " -0.07557824  0.03653483 -0.0178135  -0.04975951]\n"
     ]
    }
   ],
   "source": [
    "# Get a vector of a word\n",
    "vec1 = model['arzt'] \n",
    "# or\n",
    "vec2 = model.get_vector('arzt')\n",
    "\n",
    "print(vec1[:10])"
   ]
  },
  {
   "cell_type": "code",
   "execution_count": null,
   "metadata": {
    "collapsed": true
   },
   "outputs": [],
   "source": [
    "### Load model separately if desired ###\n",
    "# note: also loaded in mv.validate_model() ###\n",
    "model = w2v.load(emb_model_src)"
   ]
  },
  {
   "cell_type": "code",
   "execution_count": 23,
   "metadata": {
    "collapsed": false
   },
   "outputs": [
    {
     "data": {
      "image/png": "[encoded data removed]",
      "text/plain": [
       "<matplotlib.figure.Figure at 0x116d432b0>"
      ]
     },
     "metadata": {},
     "output_type": "display_data"
    }
   ],
   "source": [
    "### Visualization ###\n",
    "# From a list of words, plot all words and it's neighbours \n",
    "\n",
    "# define the words you would like to visualize\n",
    "word_list = ['arzt', 'haus', 'natur']\n",
    "\n",
    "# define the number of closest neighbors to display per word\n",
    "n_nearest_neighbours = 2\n",
    "\n",
    "# change figure size if desired\n",
    "width = 10.0\n",
    "height = 8.0\n",
    "pylab.rcParams['figure.figsize'] = (width, height)\n",
    "\n",
    "# plotting\n",
    "mv.visualize_words(model, word_list, n_nearest_neighbours)\n",
    "\n"
   ]
  },
  {
   "cell_type": "code",
   "execution_count": null,
   "metadata": {
    "collapsed": true
   },
   "outputs": [],
   "source": []
  }
 ],
 "metadata": {
  "kernelspec": {
   "display_name": "Python 3",
   "language": "python",
   "name": "python3"
  },
  "language_info": {
   "codemirror_mode": {
    "name": "ipython",
    "version": 3
   },
   "file_extension": ".py",
   "mimetype": "text/x-python",
   "name": "python",
   "nbconvert_exporter": "python",
   "pygments_lexer": "ipython3",
   "version": "3.6.0"
  }
 },
 "nbformat": 4,
 "nbformat_minor": 0
}
