{
 "cells": [
  {
   "cell_type": "code",
   "execution_count": null,
   "metadata": {
    "collapsed": false,
    "deletable": true,
    "editable": true
   },
   "outputs": [],
   "source": [
    "### Interactive medword testing tool ###\n",
    "\n",
    "import json\n",
    "import preprocess as pp\n",
    "import embedding\n",
    "import model_validation as mv\n",
    "import shared.load_config \n",
    "import os\n"
   ]
  },
  {
   "cell_type": "code",
   "execution_count": null,
   "metadata": {
    "collapsed": true,
    "deletable": true,
    "editable": true
   },
   "outputs": [],
   "source": [
    "### script settings ###\n",
    "\n",
    "# if you want to compute new training data from raw-data\n",
    "COMPUTE_NEW_TRAIN_DATA = True\n",
    "# note: if you don't compute new training data, you must provide them\n",
    "#       at train_data_src for training a new model\n",
    "\n",
    "\n",
    "# if you want to train a new model on training data\n",
    "TRAIN_NEW_MODEL = True\n",
    "# note: if you don't train a new model, you must provide it\n",
    "#       at emb_model_src for the validation step\n"
   ]
  },
  {
   "cell_type": "code",
   "execution_count": null,
   "metadata": {
    "collapsed": false,
    "deletable": true,
    "editable": true
   },
   "outputs": [],
   "source": [
    "### define filepaths and names ###\n",
    "#\n",
    "# Note: when generating training data, all *.txt files in any subdirectory of \n",
    "#       raw_data_dir are considered. If you save the generated train_data in the\n",
    "#       same folder (raw_data_dir), it will be used as raw_data input in a \n",
    "#       following run (undesired).\n",
    "\n",
    "# where to get the configuration file\n",
    "config_data_dir = ''\n",
    "config_filename = 'configuration.json'\n",
    "\n",
    "# where to get the raw *txt files for preprocessing\n",
    "raw_data_dir = 'dev_data/train_data/raw_data/'\n",
    "\n",
    "# where to store preprocessing output\n",
    "train_data_src = 'dev_data/train_data/train.txt'\n",
    "\n",
    "# where to store trained embedding model\n",
    "emb_model_dir = 'dev_data/embeddings/'\n",
    "emb_model_filename = 'emb_model.bin'\n",
    "emb_model_src = os.path.join(emb_model_dir, emb_model_filename)\n",
    "\n",
    "# Load configuration (don't change)\n",
    "config_src = os.path.join(config_data_dir, config_filename)\n",
    "config = shared.load_config.Configuration(config_src)\n"
   ]
  },
  {
   "cell_type": "code",
   "execution_count": null,
   "metadata": {
    "collapsed": false,
    "deletable": true,
    "editable": true
   },
   "outputs": [],
   "source": [
    "### choose your tokenizer for the prepocessing and validation ###\n",
    "\n",
    "## NonStemmingTokenizer: 'nst'\n",
    "# - no stemming, only remove punctuation marks\n",
    "# - lowercase letters\n",
    "config.config['tokenizer'] = 'nst'\n",
    "\n",
    "## SimpleGermanTokenizer: 'sgt'\n",
    "# - remove punctuation marks\n",
    "# - stemming\n",
    "# - lowercase letters\n",
    "# config.config['tokenizer'] = 'sgt'\n",
    "\n",
    "# test the chosen tokenizer\n",
    "tokenizer = pp.get_tokenizer(config)\n",
    "example = \"\"\"!! „asdf“ 'asdf' \"asdf\" ??Ein Arzt bzw. eine Ärztin ist ein medizinisch\\n \\n \n",
    "             ausgebildeter Heilkundiger, beschäftigt sich mit der\n",
    "             Vorbeugung (Prävention), [Erkennung] (Diagnose),\n",
    "             Behandlung (Therapie) [...] und Nachsorge von Krankheiten\n",
    "             und Leiden bzw. gesundheitlichen Beeinträchtigungen,\n",
    "             und stellt sich damit in den Dienst der Gesundheit.\"\"\"\n",
    "             \n",
    "tk_example = tokenizer.tokenize(str(example))\n",
    "\n",
    "print(tk_example)"
   ]
  },
  {
   "cell_type": "code",
   "execution_count": null,
   "metadata": {
    "collapsed": false,
    "deletable": true,
    "editable": true
   },
   "outputs": [],
   "source": [
    "### compute new training data from raw *txt files ###\n",
    "\n",
    "# compute new train data if needed\n",
    "if (COMPUTE_NEW_TRAIN_DATA):\n",
    "    pp.create_train_data(train_data_src, raw_data_dir, config)\n"
   ]
  },
  {
   "cell_type": "code",
   "execution_count": null,
   "metadata": {
    "collapsed": false,
    "deletable": true,
    "editable": true
   },
   "outputs": [],
   "source": [
    "### train a new model on your training data ###\n",
    "# note: the used configuration file is saved together with the model\n",
    "#       in the emb_model_dir\n",
    "#\n",
    "\n",
    "# dimension of embedding vectors\n",
    "config.config['embedding_vector_dim'] = 400\n",
    "\n",
    "# minimum number of appearence fore a token to be considered in the \n",
    "# model (you may want to ignore rare tokens)\n",
    "config.config['min_token_appearance'] = 1\n",
    "\n",
    "\n",
    "# train embeddings using word2vec\n",
    "if (TRAIN_NEW_MODEL):\n",
    "    embedding.make_emb_from_file(train_data_src, emb_model_dir, emb_model_filename, config)\n",
    "\n"
   ]
  },
  {
   "cell_type": "code",
   "execution_count": null,
   "metadata": {
    "collapsed": false,
    "deletable": true,
    "editable": true
   },
   "outputs": [],
   "source": [
    "### Validation of the embedding model ###\n",
    "\n",
    "# Choose test files from your validation folder\n",
    "config.config['doesntfit_file'] = 'german_doesntfit1.txt'\n",
    "config.config['synonyms_file'] = 'german_synonyms3.txt'\n",
    "\n",
    "\n",
    "model = mv.validate_model(emb_model_src, config)"
   ]
  },
  {
   "cell_type": "code",
   "execution_count": null,
   "metadata": {
    "collapsed": false,
    "deletable": true,
    "editable": true
   },
   "outputs": [],
   "source": [
    "### Get model information ###\n",
    "print(\"vocab-size:\", model.vocab.size)  # note that the token '</s>' is \n",
    "                                        # always added to the model\n",
    "\n"
   ]
  },
  {
   "cell_type": "code",
   "execution_count": null,
   "metadata": {
    "collapsed": false,
    "deletable": true,
    "editable": true
   },
   "outputs": [],
   "source": [
    "%tb "
   ]
  },
  {
   "cell_type": "code",
   "execution_count": null,
   "metadata": {
    "collapsed": true,
    "deletable": true,
    "editable": true
   },
   "outputs": [],
   "source": []
  }
 ],
 "metadata": {
  "kernelspec": {
   "display_name": "Python 3",
   "language": "python",
   "name": "python3"
  },
  "language_info": {
   "codemirror_mode": {
    "name": "ipython",
    "version": 3
   },
   "file_extension": ".py",
   "mimetype": "text/x-python",
   "name": "python",
   "nbconvert_exporter": "python",
   "pygments_lexer": "ipython3",
   "version": "3.6.0"
  }
 },
 "nbformat": 4,
 "nbformat_minor": 0
}
