{
 "cells": [
  {
   "cell_type": "code",
   "execution_count": 1,
   "metadata": {
    "collapsed": false,
    "deletable": true,
    "editable": true
   },
   "outputs": [
    {
     "name": "stderr",
     "output_type": "stream",
     "text": [
      "Using Theano backend.\n"
     ]
    }
   ],
   "source": [
    "%matplotlib inline\n",
    "### Interactive medword testing tool ###\n",
    "\n",
    "import medword_pipeline\n",
    "import embedding_fasttext\n",
    "import embedding_word2vec\n",
    "import embedding_word2vec_composite\n",
    "import shared.load_config \n",
    "import json\n",
    "import pylab\n",
    "import os\n",
    "import model_validation as mv\n",
    "import preprocess as pp\n"
   ]
  },
  {
   "cell_type": "code",
   "execution_count": 2,
   "metadata": {
    "collapsed": false,
    "deletable": true,
    "editable": true
   },
   "outputs": [],
   "source": [
    "### define a new configuration\n",
    "config_dict = {\n",
    "    \n",
    "    # changes base data directory for developing on smaller data.\n",
    "    # possible values: \"develop\" and \"normal\"\n",
    "    \"running_mode\": \"normal\",\n",
    "    \n",
    "    # if you want to compute new training data from raw-data\n",
    "    \"compute_new_data\": False,\n",
    "    # note: if you don't compute new training data, you must provide them\n",
    "    #       at train_data_src for training a new model\n",
    "    \n",
    "    # if you want to train a new model on training data\n",
    "    \"train_new_model\": False,\n",
    "    # note: if you don't train a new model, you must provide it\n",
    "    #       at emb_model_src for the validation step\n",
    "    \n",
    "    # if you want to run the validation\n",
    "    \"run_validation\": False,\n",
    "    \n",
    "    # chose embedding method. possible values: \"word2vec\" and \"fasttext\"\n",
    "    \"embedding_method\": \"word2vec-composite\",\n",
    "    \n",
    "    # chose embedding algorithm. possible values: \"skipgram\" and \"cbow\"\n",
    "    \"embedding_algorithm\": \"skipgram\",\n",
    "    \n",
    "    # chose filenames for train data and embedding model\n",
    "    \"train_data_filename\": \"train.txt\",\n",
    "    \"embedding_model_filename\": \"emb_model_ft.bin\",\n",
    "    \n",
    "    # base data dir when running in \"normal\" mode\n",
    "    \"base_data_dir\": \"data/\",\n",
    "    \n",
    "    # base data dir when running in \"develop\" mode\n",
    "    \"develop_base_data_dir\": \"dev_data/\",\n",
    "    \n",
    "    # embedding model settings\n",
    "    \"embedding_vector_dim\": 150,\n",
    "    \"min_token_appearance\": 5,\n",
    "    \n",
    "    # chose tokenizer. possible values: \"nst\" and \"sgt\"\n",
    "    ## NonStemmingTokenizer: 'nst'\n",
    "    # - no stemming, only remove punctuation marks\n",
    "    # - lowercase letters\n",
    "\n",
    "    ## SimpleGermanTokenizer: 'sgt'\n",
    "    # - remove punctuation marks\n",
    "    # - stemming\n",
    "    # - lowercase letters\n",
    "    \"tokenizer\": \"nst\",\n",
    "    \n",
    "    # validation data settings\n",
    "    \"val_data_dir\": \"data/validation_data/\",\n",
    "    \"doesntfit_file\": \"german_doesntfit1.txt\",\n",
    "    \"synonyms_file\": \"german_synonyms_phrases.txt\",\n",
    "    \n",
    "    # where to store the configuration file\n",
    "    \"config_path\": \"configuration-ipython.json\"\n",
    "}"
   ]
  },
  {
   "cell_type": "code",
   "execution_count": 3,
   "metadata": {
    "collapsed": false,
    "deletable": true,
    "editable": true
   },
   "outputs": [],
   "source": [
    "### save config file (don't change)\n",
    "config_src = config_dict[\"config_path\"]\n",
    "\n",
    "with open(config_src, 'w+') as f:\n",
    "    json.dump(config_dict, f, indent=4)\n",
    "    \n",
    "# load config object based on config file (don't change)\n",
    "config = shared.load_config.Configuration(config_src)"
   ]
  },
  {
   "cell_type": "code",
   "execution_count": 4,
   "metadata": {
    "collapsed": false,
    "deletable": true,
    "editable": true
   },
   "outputs": [],
   "source": [
    "### initialize embedding object (don't change)\n",
    "if config.config['embedding_method'] == 'fasttext':\n",
    "    embedding = embedding_fasttext.EmbeddingFasttext(config)\n",
    "\n",
    "elif config.config['embedding_method'] == 'word2vec':\n",
    "    embedding = embedding_word2vec.EmbeddingWord2vec(config)\n",
    "\n",
    "elif config.config['embedding_method'] == 'word2vec-composite':\n",
    "    embedding = embedding_word2vec_composite.EmbeddingWord2vecComposite(config)\n",
    "    \n",
    "\n",
    "else:\n",
    "    print('embedding_algorithm (in config) must be \"fasttext\" or \"word2vec\"')\n"
   ]
  },
  {
   "cell_type": "code",
   "execution_count": 5,
   "metadata": {
    "collapsed": false,
    "deletable": true,
    "editable": true
   },
   "outputs": [
    {
     "name": "stdout",
     "output_type": "stream",
     "text": [
      "[nltk_data] Downloading package punkt to /home/tim/nltk_data...\n",
      "[nltk_data]   Package punkt is already up-to-date!\n",
      "Running in NORMAL mode.\n"
     ]
    }
   ],
   "source": [
    "### run pipeline for that embedding (create train data, train model, validate model)\n",
    "medword_pipeline.run_pipeline(embedding)"
   ]
  },
  {
   "cell_type": "code",
   "execution_count": 5,
   "metadata": {
    "collapsed": false,
    "deletable": true,
    "editable": true
   },
   "outputs": [
    {
     "name": "stdout",
     "output_type": "stream",
     "text": [
      "Train or load a model.\n"
     ]
    }
   ],
   "source": [
    "### Play with embedding model ###\n",
    "#\n",
    "# The following parts are intended to get familiar with the \n",
    "# model and the data\n",
    "\n",
    "# check if model is instantiatet\n",
    "if embedding._model is None: \n",
    "    print(\"Train or load a model.\")\n",
    "else: \n",
    "    print(\"Model is present.\")"
   ]
  },
  {
   "cell_type": "code",
   "execution_count": 6,
   "metadata": {
    "collapsed": false,
    "deletable": true,
    "editable": true
   },
   "outputs": [
    {
     "name": "stdout",
     "output_type": "stream",
     "text": [
      "Model loaded.\n"
     ]
    }
   ],
   "source": [
    "# maybe load model (if not created in training or loaded in validation of pipeline)\n",
    "# Note: The model must fit the embedding method (fasttext or word2vec)!\n",
    "emb_model_dir = 'data/embeddings/'\n",
    "emb_model_filename = 'emb_model_ft.bin'\n",
    "\n",
    "embedding.load_model(emb_model_dir, emb_model_filename)\n",
    "print(\"Model loaded.\")"
   ]
  },
  {
   "cell_type": "code",
   "execution_count": 7,
   "metadata": {
    "collapsed": false,
    "deletable": true,
    "editable": true
   },
   "outputs": [
    {
     "name": "stdout",
     "output_type": "stream",
     "text": [
      "vocab size: 361798\n",
      "vector dim: 150\n"
     ]
    }
   ],
   "source": [
    "### Get model information ###\n",
    "print(\"vocab size:\", len(embedding.get_vocab()))\n",
    "print(\"vector dim:\", embedding.vec_dim())"
   ]
  },
  {
   "cell_type": "code",
   "execution_count": 21,
   "metadata": {
    "collapsed": false,
    "deletable": true,
    "editable": true
   },
   "outputs": [
    {
     "name": "stdout",
     "output_type": "stream",
     "text": [
      "word is in model vocab:  False\n",
      "cet\n",
      "eco\n",
      "sandoz\n"
     ]
    },
    {
     "data": {
      "text/plain": [
       "[('langt', 0.8550068976483358),\n",
       " ('roetzer', 0.8442715031884811),\n",
       " ('droesser', 0.8438368622149449),\n",
       " ('schonfrist', 0.8408969563123138),\n",
       " ('film101', 0.8362701290420604),\n",
       " ('zeitmagazin', 0.8358793212009645),\n",
       " ('19972006', 0.8352904899210074),\n",
       " ('weltprint', 0.8341318972235378),\n",
       " ('zeitungsleser', 0.8325057911194269),\n",
       " ('rauterberg', 0.8301941100222336)]"
      ]
     },
     "execution_count": 21,
     "metadata": {},
     "output_type": "execute_result"
    }
   ],
   "source": [
    "### Play with model ###\n",
    "\n",
    "# define a word from which you like to see it's n-nearest neighbours \n",
    "# in the embedding space\n",
    "word = 'ceteco sandoz'\n",
    "n_nearest_neighbours = 10\n",
    "\n",
    "# check if word is in model vocab\n",
    "print(\"word is in model vocab: \", word in embedding.get_vocab())\n",
    "\n",
    "# create list of neighbours\n",
    "embedding.most_similar_n(word, n_nearest_neighbours)\n"
   ]
  },
  {
   "cell_type": "code",
   "execution_count": 21,
   "metadata": {
    "collapsed": false,
    "deletable": true,
    "editable": true
   },
   "outputs": [
    {
     "data": {
      "text/plain": [
       "[('bartholinitis', 0.5540084583295412),\n",
       " ('pelveoperitonitis', 0.5516970501114253),\n",
       " ('n739', 0.5441945208683527),\n",
       " ('eileiter', 0.5397869951330914),\n",
       " ('adnexitis', 0.5350158147085161),\n",
       " ('beckenadhaesion', 0.53321237220386),\n",
       " ('genitalprolaps', 0.5329878388691829),\n",
       " ('fournier-gangraen', 0.5301762943086812),\n",
       " ('endometritis', 0.5289991945594156),\n",
       " ('epididymitis', 0.527432929956771)]"
      ]
     },
     "execution_count": 21,
     "metadata": {},
     "output_type": "execute_result"
    }
   ],
   "source": [
    "### Analogy\n",
    "\n",
    "# embedding.analogy([positives], [negatives], topn)\n",
    "embedding.analogy(['entzuendung', 'frau'], [], 10)"
   ]
  },
  {
   "cell_type": "code",
   "execution_count": 11,
   "metadata": {
    "collapsed": false,
    "deletable": true,
    "editable": true
   },
   "outputs": [
    {
     "data": {
      "text/plain": [
       "array([-0.05576208,  0.07286525, -0.11488426,  0.06763246,  0.01310543,\n",
       "       -0.00972985, -0.01771902, -0.12122954,  0.20332509,  0.02934829])"
      ]
     },
     "execution_count": 11,
     "metadata": {},
     "output_type": "execute_result"
    }
   ],
   "source": [
    "# Get a vector of a word\n",
    "import numpy as np\n",
    "vec = embedding.word_vec('blinddarmentzuendung')\n",
    "vec[:10]\n",
    "\n"
   ]
  },
  {
   "cell_type": "code",
   "execution_count": 20,
   "metadata": {
    "collapsed": false,
    "deletable": true,
    "editable": true
   },
   "outputs": [
    {
     "data": {
      "image/png": "[encoded data removed]",
      "text/plain": [
       "<matplotlib.figure.Figure at 0x7f0d1335b198>"
      ]
     },
     "metadata": {},
     "output_type": "display_data"
    }
   ],
   "source": [
    "### Visualization ###\n",
    "# From a list of words, plot all words and it's neighbours \n",
    "\n",
    "# define the words you would like to visualize\n",
    "word_list = ['r651', 'sirs mit organkomplikation', 'r650']\n",
    "\n",
    "# define the number of closest neighbors to display per word\n",
    "n_nearest_neighbours = 4\n",
    "\n",
    "# change figure size if desired\n",
    "width = 10.0\n",
    "height = 8.0\n",
    "pylab.rcParams['figure.figsize'] = (width, height)\n",
    "\n",
    "# plotting\n",
    "mv.visualize_words(embedding, word_list, n_nearest_neighbours)"
   ]
  },
  {
   "cell_type": "code",
   "execution_count": 13,
   "metadata": {
    "collapsed": false,
    "deletable": true,
    "editable": true
   },
   "outputs": [
    {
     "name": "stdout",
     "output_type": "stream",
     "text": [
      "['sternotomie', '35h111']\n"
     ]
    }
   ],
   "source": [
    "### test a tokenizer for the prepocessing and validation ###\n",
    "\n",
    "## NonStemmingTokenizer: 'nst'\n",
    "# - no stemming, only remove punctuation marks\n",
    "# - lowercase letters\n",
    "config.config['tokenizer'] = 'nst'\n",
    "\n",
    "## SimpleGermanTokenizer: 'sgt'\n",
    "# - remove punctuation marks\n",
    "# - stemming\n",
    "# - lowercase letters\n",
    "# config.config['tokenizer'] = 'sgt'\n",
    "\n",
    "# test the chosen tokenizer\n",
    "tokenizer = pp.get_tokenizer(config)\n",
    "example = \"sternotomie 35h111\"\n",
    "             \n",
    "tk_example = tokenizer.tokenize(str(example))\n",
    "\n",
    "print(tk_example)"
   ]
  }
 ],
 "metadata": {
  "kernelspec": {
   "display_name": "Python 3",
   "language": "python",
   "name": "python3"
  },
  "language_info": {
   "codemirror_mode": {
    "name": "ipython",
    "version": 3
   },
   "file_extension": ".py",
   "mimetype": "text/x-python",
   "name": "python",
   "nbconvert_exporter": "python",
   "pygments_lexer": "ipython3",
   "version": "3.5.2"
  }
 },
 "nbformat": 4,
 "nbformat_minor": 0
}
