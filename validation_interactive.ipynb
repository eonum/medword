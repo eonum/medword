{
 "cells": [
  {
   "cell_type": "code",
   "execution_count": 1,
   "metadata": {
    "collapsed": false,
    "deletable": true,
    "editable": true
   },
   "outputs": [
    {
     "name": "stderr",
     "output_type": "stream",
     "text": [
      "Using TensorFlow backend.\n"
     ]
    }
   ],
   "source": [
    "%matplotlib inline\n",
    "### Interactive medword testing tool ###\n",
    "\n",
    "import medword_pipeline\n",
    "import embedding_fasttext\n",
    "import embedding_word2vec\n",
    "import shared.load_config \n",
    "import json\n",
    "import pylab\n",
    "import os\n",
    "import model_validation as mv\n",
    "import preprocess as pp"
   ]
  },
  {
   "cell_type": "code",
   "execution_count": 2,
   "metadata": {
    "collapsed": false,
    "deletable": true,
    "editable": true
   },
   "outputs": [],
   "source": [
    "### define filepaths and names ###\n",
    "#\n",
    "# Note: the embedding model must fit the embedding_method in \n",
    "#       the config file (\"word2vec\" or \"fasttext\")\n",
    "# \n",
    "\n",
    "# where to get the configuration file corresponding to the embedding model\n",
    "config_data_dir = ''\n",
    "config_filename = 'configuration.json'\n",
    "\n",
    "\n",
    "# where to get the trained embedding model\n",
    "emb_model_dir = 'data/embeddings/'\n",
    "emb_model_filename = 'emb_model_2806_ft.bin'\n",
    "\n",
    "\n",
    "# Load configuration (don't change)\n",
    "config_src = os.path.join(config_data_dir, config_filename)\n",
    "config = shared.load_config.Configuration(config_src)"
   ]
  },
  {
   "cell_type": "code",
   "execution_count": 3,
   "metadata": {
    "collapsed": false
   },
   "outputs": [
    {
     "name": "stdout",
     "output_type": "stream",
     "text": [
      "Model loaded.\n"
     ]
    }
   ],
   "source": [
    "### initialize embedding object (don't change)\n",
    "if config.config['embedding_method'] == 'fasttext':\n",
    "    embedding = embedding_fasttext.EmbeddingFasttext(config)\n",
    "\n",
    "elif config.config['embedding_method'] == 'word2vec':\n",
    "    embedding = embedding_word2vec.EmbeddingWord2vec(config)\n",
    "\n",
    "else:\n",
    "    print('embedding_algorithm (in config) must be \"fasttext\" or \"word2vec\"')\n",
    "    raise AttributeError\n",
    "\n",
    "    \n",
    "### Load model (don't change)\n",
    "embedding.load_model(emb_model_dir, emb_model_filename)\n",
    "print(\"Model loaded.\")"
   ]
  },
  {
   "cell_type": "code",
   "execution_count": 4,
   "metadata": {
    "collapsed": false
   },
   "outputs": [
    {
     "name": "stdout",
     "output_type": "stream",
     "text": [
      "vocab size: 22809\n",
      "vector dim: 100\n"
     ]
    }
   ],
   "source": [
    "### Get model information ###\n",
    "print(\"vocab size:\", len(embedding.get_vocab()))\n",
    "print(\"vector dim:\", embedding.vec_dim())"
   ]
  },
  {
   "cell_type": "code",
   "execution_count": 5,
   "metadata": {
    "collapsed": false,
    "deletable": true,
    "editable": true
   },
   "outputs": [
    {
     "name": "stdout",
     "output_type": "stream",
     "text": [
      "word is in model vocab:  True\n"
     ]
    },
    {
     "data": {
      "text/plain": [
       "[('arzt', 1.0),\n",
       " ('kurarzt', 0.8320469260215759),\n",
       " ('notarzt', 0.8091708421707153),\n",
       " ('badearzt', 0.8087326884269714),\n",
       " ('wundarzt', 0.7915420532226562),\n",
       " ('amtsarzt', 0.7872973084449768),\n",
       " ('hausarzt', 0.7842728495597839),\n",
       " ('telearzt', 0.7827932834625244),\n",
       " ('bezirksarzt', 0.7796375751495361),\n",
       " ('landarzt', 0.775183916091919)]"
      ]
     },
     "execution_count": 5,
     "metadata": {},
     "output_type": "execute_result"
    }
   ],
   "source": [
    "### Play with model ###\n",
    "\n",
    "# define a word from which you like to see it's n-nearest neighbours \n",
    "# in the embedding space\n",
    "word = 'arzt'\n",
    "n_nearest_neighbours = 10\n",
    "\n",
    "# check if word is in model vocab\n",
    "print(\"word is in model vocab: \", word in embedding.get_vocab())\n",
    "\n",
    "# create list of neighbours\n",
    "embedding.most_similar_n(word, n_nearest_neighbours)"
   ]
  },
  {
   "cell_type": "code",
   "execution_count": 6,
   "metadata": {
    "collapsed": false
   },
   "outputs": [
    {
     "data": {
      "text/plain": [
       "[('koenigin', 0.7447852492332458),\n",
       " ('koenigs', 0.668362021446228),\n",
       " ('koenigsfeld', 0.6180114150047302),\n",
       " ('russland', 0.5761436223983765),\n",
       " ('koenigsberger', 0.5667705535888672),\n",
       " ('holland', 0.5637938976287842),\n",
       " ('koeniglich', 0.5626555681228638),\n",
       " ('koenigreich', 0.5611275434494019),\n",
       " ('pakistan', 0.5577478408813477),\n",
       " ('koenigsberg', 0.5565550327301025)]"
      ]
     },
     "execution_count": 6,
     "metadata": {},
     "output_type": "execute_result"
    }
   ],
   "source": [
    "### Analogy\n",
    "\n",
    "# embedding.analogy([positives], [negatives], topn)\n",
    "embedding.analogy(['koenig', 'frau'], ['mann'], 10)"
   ]
  },
  {
   "cell_type": "code",
   "execution_count": 7,
   "metadata": {
    "collapsed": false
   },
   "outputs": [
    {
     "name": "stdout",
     "output_type": "stream",
     "text": [
      "[ 0.01048696  0.10086755  0.25754917  0.43578893 -0.29070744 -0.3941167\n",
      "  0.14763075  0.67320144 -0.30519983  0.03499269]\n"
     ]
    }
   ],
   "source": [
    "# Get a vector of a word\n",
    "vec = embedding.word_vec('das')\n",
    "\n",
    "print(vec[:10])"
   ]
  },
  {
   "cell_type": "code",
   "execution_count": null,
   "metadata": {
    "collapsed": false,
    "deletable": true,
    "editable": true
   },
   "outputs": [],
   "source": [
    "### Validation of the embedding model ###\n",
    "\n",
    "# where to get the validation data\n",
    "config.config['val_data_dir'] = 'data/validation_data/'\n",
    "\n",
    "# Choose DOESNTFIT test file from your validation folder\n",
    "# note: - the doesntfit file has a 'question' on each line\n",
    "#       - a 'question' is of the format \n",
    "#       \n",
    "#         word_1 word_2 word_3 ... word_N word_not_fitting\n",
    "#        \n",
    "#         -> word_1 to word_N belong to a category but word_not_fitting doesn't\n",
    "# \n",
    "#         Example question:\n",
    "# \n",
    "#         Auto Motorrad Fahrrad Fußgänger\n",
    "#\n",
    "#\n",
    "config.config['doesntfit_file'] = 'german_doesntfit1.txt'\n",
    "\n",
    "\n",
    "# Choose SYNONYM test file from your validation folder\n",
    "# note: - the synonym file has a 'question' on each line\n",
    "#       - a 'question' is of the format \n",
    "#       \n",
    "#         word_1 word_2 \n",
    "#        \n",
    "#         -> word_1 and word_N are synonyms\n",
    "# \n",
    "#         Example question:\n",
    "# \n",
    "#         Blutgerinnsel Thrombus\n",
    "#\n",
    "# \n",
    "config.config['synonyms_file'] = 'german_synonyms3.txt'\n",
    "\n",
    "\n",
    "mv.validate_model(embedding, emb_model_dir, emb_model_filename)"
   ]
  },
  {
   "cell_type": "code",
   "execution_count": 8,
   "metadata": {
    "collapsed": false
   },
   "outputs": [
    {
     "data": {
      "image/png": "[encoded data removed]",
      "text/plain": [
       "<matplotlib.figure.Figure at 0x110144198>"
      ]
     },
     "metadata": {},
     "output_type": "display_data"
    }
   ],
   "source": [
    "### Visualization ###\n",
    "# From a list of words, plot all words and it's neighbours \n",
    "\n",
    "# define the words you would like to visualize\n",
    "word_list = ['arzt', 'sonne', 'der']\n",
    "\n",
    "# define the number of closest neighbors to display per word\n",
    "n_nearest_neighbours = 4\n",
    "\n",
    "# change figure size if desired\n",
    "width = 10.0\n",
    "height = 8.0\n",
    "pylab.rcParams['figure.figsize'] = (width, height)\n",
    "\n",
    "# plotting\n",
    "mv.visualize_words(embedding, word_list, n_nearest_neighbours)"
   ]
  },
  {
   "cell_type": "code",
   "execution_count": 9,
   "metadata": {
    "collapsed": false,
    "deletable": true,
    "editable": true
   },
   "outputs": [
    {
     "name": "stdout",
     "output_type": "stream",
     "text": [
      "['asdf', 'asdf', 'abk', 'asdf', 'ein', 'arzt', 'bzw', 'eine', 'aerztin', 'ist', 'ein', 'medizinisch', 'ausgebildeter', 'heilkundiger', 'beschaeftigt', 'sich', 'mit', 'der', 'vorbeugung', 'praevention', 'erkennung', 'diagnose', 'behandlung', 'therapie', 'und', 'nachsorge', 'von', 'krankheiten', 'und', 'leiden', 'bzw', 'gesundheitlichen', 'beeintraechtigungen', 'und', 'stellt', 'sich', 'damit', 'in', 'den', 'dienst', 'der', 'gesundheit', 'stae-asdf']\n"
     ]
    }
   ],
   "source": [
    "### test your used tokenizer ###\n",
    "\n",
    "tokenizer = pp.get_tokenizer(config)\n",
    "example = \"\"\"!! „asdf“ 'asdf' abk. \"asdf\" ??Ein Arzt bzw. eine Ärztin ist ein medizinisch\\n \\n \n",
    "             ausgebildeter Heilkundiger, beschäftigt sich mit der\n",
    "             Vorbeugung (Prävention), [Erkennung] (Diagnose),\n",
    "             Behandlung (Therapie) [...] und Nachsorge von Krankheiten\n",
    "             und Leiden bzw. gesundheitlichen Beeinträchtigungen,\n",
    "             und stellt sich\">\n",
    "             damit in den Dienst der Gesundheit.\n",
    "             \n",
    "             stae-asdf\"\"\"\n",
    "             \n",
    "tk_example = tokenizer.tokenize(str(example))\n",
    "\n",
    "print(tk_example)"
   ]
  },
  {
   "cell_type": "code",
   "execution_count": null,
   "metadata": {
    "collapsed": true
   },
   "outputs": [],
   "source": []
  }
 ],
 "metadata": {
  "kernelspec": {
   "display_name": "Python 3",
   "language": "python",
   "name": "python3"
  },
  "language_info": {
   "codemirror_mode": {
    "name": "ipython",
    "version": 3
   },
   "file_extension": ".py",
   "mimetype": "text/x-python",
   "name": "python",
   "nbconvert_exporter": "python",
   "pygments_lexer": "ipython3",
   "version": "3.6.0"
  }
 },
 "nbformat": 4,
 "nbformat_minor": 0
}
