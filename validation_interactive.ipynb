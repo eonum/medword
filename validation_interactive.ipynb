{
 "cells": [
  {
   "cell_type": "code",
   "execution_count": 1,
   "metadata": {
    "collapsed": false,
    "deletable": true,
    "editable": true
   },
   "outputs": [],
   "source": [
    "%matplotlib inline\n",
    "### Interactive medword testing tool ###\n",
    "\n",
    "import medword_pipeline\n",
    "import embedding_fasttext\n",
    "import embedding_word2vec\n",
    "import shared.load_config \n",
    "import json\n",
    "import pylab\n",
    "import os\n",
    "import model_validation as mv\n",
    "import preprocess as pp"
   ]
  },
  {
   "cell_type": "code",
   "execution_count": 2,
   "metadata": {
    "collapsed": false,
    "deletable": true,
    "editable": true
   },
   "outputs": [],
   "source": [
    "### define filepaths and names ###\n",
    "#\n",
    "# Note: the embedding model must fit the embedding_method in \n",
    "#       the config file (\"word2vec\" or \"fasttext\")\n",
    "# \n",
    "\n",
    "# where to get the configuration file corresponding to the embedding model\n",
    "config_data_dir = 'data/embeddings/emb4/'\n",
    "config_filename = 'emb_model_w2v_4_configuration.json'\n",
    "\n",
    "\n",
    "# where to get the trained embedding model\n",
    "emb_model_dir = 'data/embeddings/emb4/'\n",
    "emb_model_filename = 'emb_model_w2v_4.bin'\n",
    "\n",
    "\n",
    "# Load configuration (don't change)\n",
    "config_src = os.path.join(config_data_dir, config_filename)\n",
    "config = shared.load_config.Configuration(config_src)"
   ]
  },
  {
   "cell_type": "code",
   "execution_count": 4,
   "metadata": {
    "collapsed": false
   },
   "outputs": [
    {
     "name": "stdout",
     "output_type": "stream",
     "text": [
      "Model loaded.\n"
     ]
    }
   ],
   "source": [
    "### initialize embedding object (don't change)\n",
    "if config.config['embedding_method'] == 'fasttext':\n",
    "    embedding = embedding_fasttext.EmbeddingFasttext(config)\n",
    "\n",
    "elif config.config['embedding_method'] == 'word2vec':\n",
    "    embedding = embedding_word2vec.EmbeddingWord2vec(config)\n",
    "\n",
    "else:\n",
    "    print('embedding_algorithm (in config) must be \"fasttext\" or \"word2vec\"')\n",
    "    raise AttributeError\n",
    "\n",
    "    \n",
    "### Load model (don't change)\n",
    "embedding.load_model(emb_model_dir, emb_model_filename)\n",
    "print(\"Model loaded.\")"
   ]
  },
  {
   "cell_type": "code",
   "execution_count": 5,
   "metadata": {
    "collapsed": false
   },
   "outputs": [
    {
     "name": "stdout",
     "output_type": "stream",
     "text": [
      "vocab size: 584831\n",
      "vector dim: 150\n"
     ]
    }
   ],
   "source": [
    "### Get model information ###\n",
    "print(\"vocab size:\", len(embedding.get_vocab()))\n",
    "print(\"vector dim:\", embedding.vec_dim())"
   ]
  },
  {
   "cell_type": "code",
   "execution_count": 6,
   "metadata": {
    "collapsed": false,
    "deletable": true,
    "editable": true
   },
   "outputs": [
    {
     "name": "stdout",
     "output_type": "stream",
     "text": [
      "word is in model vocab:  True\n"
     ]
    },
    {
     "data": {
      "text/plain": [
       "[('hausarzt', 0.7083759719272735),\n",
       " ('einweisende', 0.7014030413022272),\n",
       " ('behandelnde', 0.6947822577577334),\n",
       " ('darzt-rezept', 0.6834899853247314),\n",
       " ('gkv-versicherter', 0.6832060187451043),\n",
       " ('unterschreibt', 0.6763688425610666),\n",
       " ('heilhilfsberufe', 0.6760111969065752),\n",
       " ('eilfall', 0.6757200643686898),\n",
       " ('unterschreibe', 0.6755855001100888),\n",
       " ('konsiliargespräch', 0.6743831698015321)]"
      ]
     },
     "execution_count": 6,
     "metadata": {},
     "output_type": "execute_result"
    }
   ],
   "source": [
    "### Play with model ###\n",
    "\n",
    "# define a word from which you like to see it's n-nearest neighbours \n",
    "# in the embedding space\n",
    "word = 'arzt'\n",
    "n_nearest_neighbours = 10\n",
    "\n",
    "# check if word is in model vocab\n",
    "print(\"word is in model vocab: \", word in embedding.get_vocab())\n",
    "\n",
    "# create list of neighbours\n",
    "embedding.most_similar_n(word, n_nearest_neighbours)"
   ]
  },
  {
   "cell_type": "code",
   "execution_count": 7,
   "metadata": {
    "collapsed": false
   },
   "outputs": [
    {
     "data": {
      "text/plain": [
       "[('jeanine', 0.26620751310760143),\n",
       " ('landsberger', 0.2660433696237113),\n",
       " ('80639', 0.2656330931007473),\n",
       " ('dipl-soz-päd', 0.2637328793164403),\n",
       " ('warmuth', 0.2632840142348419),\n",
       " ('10585', 0.26105168439033044),\n",
       " ('48161', 0.26072782732789107),\n",
       " ('80339', 0.2598002194313916),\n",
       " ('inka', 0.25894442852951605),\n",
       " ('klinikstrasse', 0.25826217955434494)]"
      ]
     },
     "execution_count": 7,
     "metadata": {},
     "output_type": "execute_result"
    }
   ],
   "source": [
    "### Analogy\n",
    "\n",
    "# embedding.analogy([positives], [negatives], topn)\n",
    "embedding.analogy(['koenig', 'frau'], ['mann'], 10)"
   ]
  },
  {
   "cell_type": "code",
   "execution_count": 8,
   "metadata": {
    "collapsed": false
   },
   "outputs": [
    {
     "name": "stdout",
     "output_type": "stream",
     "text": [
      "[ 0.08220343  0.08810184 -0.05436552 -0.1531591   0.02436036 -0.13343668\n",
      "  0.06235622  0.09080388  0.05949959  0.00184021]\n"
     ]
    }
   ],
   "source": [
    "# Get a vector of a word\n",
    "vec = embedding.word_vec('das')\n",
    "\n",
    "print(vec[:10])"
   ]
  },
  {
   "cell_type": "code",
   "execution_count": 9,
   "metadata": {
    "collapsed": false,
    "deletable": true,
    "editable": true
   },
   "outputs": [
    {
     "name": "stdout",
     "output_type": "stream",
     "text": [
      "Start validation. Loading model. \n",
      "\n",
      "Validating 'doesntfit' with file data/validation_data/german_doesntfit1.txt\n",
      "\n",
      "*** Doesn't fit ***\n",
      "Doesn't fit correct:  76.8% (76/99)\n",
      "Doesn't fit coverage: 90.0% (99/110) \n",
      "\n",
      "\n",
      "*** Human-Similarity ***\n",
      "Number of instances: 636, skipped: 143\n",
      "random error: 0.29851118826, mean error: 0.244944473289\n"
     ]
    }
   ],
   "source": [
    "### Validation of the embedding model ###\n",
    "\n",
    "# where to get the validation data\n",
    "config.config['val_data_dir'] = 'data/validation_data/'\n",
    "\n",
    "# Choose DOESNTFIT test file from your validation folder\n",
    "# note: - the doesntfit file has a 'question' on each line\n",
    "#       - a 'question' is of the format \n",
    "#       \n",
    "#         word_1 word_2 word_3 ... word_N word_not_fitting\n",
    "#        \n",
    "#         -> word_1 to word_N belong to a category but word_not_fitting doesn't\n",
    "# \n",
    "#         Example question:\n",
    "# \n",
    "#         Auto Motorrad Fahrrad Fußgänger\n",
    "#\n",
    "#\n",
    "config.config['doesntfit_file'] = 'german_doesntfit1.txt'\n",
    "\n",
    "\n",
    "# Choose SYNONYM test file from your validation folder\n",
    "# note: - the synonym file has a 'question' on each line\n",
    "#       - a 'question' is of the format \n",
    "#       \n",
    "#         word_1 word_2 \n",
    "#        \n",
    "#         -> word_1 and word_N are synonyms\n",
    "# \n",
    "#         Example question:\n",
    "# \n",
    "#         Blutgerinnsel Thrombus\n",
    "#\n",
    "# \n",
    "config.config['synonyms_file'] = 'german_synonyms3.txt'\n",
    "\n",
    "\n",
    "mv.validate_model(embedding, emb_model_dir, emb_model_filename)"
   ]
  },
  {
   "cell_type": "code",
   "execution_count": 13,
   "metadata": {
    "collapsed": false
   },
   "outputs": [
    {
     "data": {
      "image/png": "[encoded data removed]",
      "text/plain": [
       "<matplotlib.figure.Figure at 0x7f8f018e2908>"
      ]
     },
     "metadata": {},
     "output_type": "display_data"
    }
   ],
   "source": [
    "### Visualization ###\n",
    "# From a list of words, plot all words and it's neighbours \n",
    "\n",
    "# define the words you would like to visualize\n",
    "word_list = ['arzt', 'sonne', 'der']\n",
    "\n",
    "# define the number of closest neighbors to display per word\n",
    "n_nearest_neighbours = 4\n",
    "\n",
    "# change figure size if desired\n",
    "width = 10.0\n",
    "height = 8.0\n",
    "pylab.rcParams['figure.figsize'] = (width, height)\n",
    "\n",
    "# plotting\n",
    "mv.visualize_words(embedding, word_list, n_nearest_neighbours)"
   ]
  },
  {
   "cell_type": "code",
   "execution_count": 10,
   "metadata": {
    "collapsed": false,
    "deletable": true,
    "editable": true
   },
   "outputs": [
    {
     "name": "stdout",
     "output_type": "stream",
     "text": [
      "['asdf', 'asdf', 'abk', 'hey', 'asdf', 'ein', 'arzt', 'bzw', 'eine', 'ärztin', 'ist', 'ein', 'medizinisch', 'ausgebildeter', 'heilkundiger', 'beschäftigt', 'sich', 'mit', 'der', 'vorbeugung', 'prävention', 'erkennung', 'diagnose', 'behandlung', 'therapie', 'und', 'nachsorge', 'von', 'krankheiten', 'und', 'leiden', 'bzw', 'gesundheitlichen', 'beeinträchtigungen', 'und', 'stellt', 'sich', 'damit', 'in', 'den', 'dienst', 'der', 'gesundheit', 'stae-asdf']\n"
     ]
    }
   ],
   "source": [
    "### test your used tokenizer ###\n",
    "\n",
    "tokenizer = pp.get_tokenizer(config)\n",
    "example = \"\"\"!! „asdf“ 'asdf' abk. hey \"asdf\" ??Ein Arzt bzw. eine Ärztin ist ein medizinisch\\n \\n \n",
    "             ausgebildeter Heilkundiger, beschäftigt sich mit der\n",
    "             Vorbeugung (Prävention), [Erkennung] (Diagnose),\n",
    "             Behandlung (Therapie) [...] und Nachsorge von Krankheiten\n",
    "             und Leiden bzw. gesundheitlichen Beeinträchtigungen,\n",
    "             und stellt sich\">\n",
    "             damit in den Dienst der Gesundheit.\n",
    "             \n",
    "             stae-asdf\"\"\"\n",
    "             \n",
    "tk_example = tokenizer.tokenize(str(example))\n",
    "\n",
    "print(tk_example)"
   ]
  },
  {
   "cell_type": "code",
   "execution_count": 11,
   "metadata": {
    "collapsed": true
   },
   "outputs": [],
   "source": [
    "import importlib\n",
    "importlib.reload(mv)\n",
    "file_src = 'data/validation_data/human_similarity.csv'"
   ]
  },
  {
   "cell_type": "code",
   "execution_count": null,
   "metadata": {
    "collapsed": false
   },
   "outputs": [],
   "source": []
  },
  {
   "cell_type": "code",
   "execution_count": null,
   "metadata": {
    "collapsed": true
   },
   "outputs": [],
   "source": []
  }
 ],
 "metadata": {
  "anaconda-cloud": {},
  "kernelspec": {
   "display_name": "Python [conda env:tensorflow]",
   "language": "python",
   "name": "conda-env-tensorflow-py"
  },
  "language_info": {
   "codemirror_mode": {
    "name": "ipython",
    "version": 3
   },
   "file_extension": ".py",
   "mimetype": "text/x-python",
   "name": "python",
   "nbconvert_exporter": "python",
   "pygments_lexer": "ipython3",
   "version": "3.5.4"
  }
 },
 "nbformat": 4,
 "nbformat_minor": 0
}
