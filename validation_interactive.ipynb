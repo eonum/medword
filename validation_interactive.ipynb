{
 "cells": [
  {
   "cell_type": "code",
   "execution_count": 1,
   "metadata": {
    "collapsed": false,
    "deletable": true,
    "editable": true
   },
   "outputs": [
    {
     "name": "stdout",
     "output_type": "stream",
     "text": [
      "[nltk_data] Downloading package punkt to /usr/local/share/nltk_data...\n",
      "[nltk_data]   Package punkt is already up-to-date!\n"
     ]
    }
   ],
   "source": [
    "%matplotlib inline\n",
    "### Interactive medword testing tool ###\n",
    "\n",
    "import preprocess as pp\n",
    "import embedding\n",
    "import model_validation as mv\n",
    "import pylab\n",
    "import json\n",
    "import shared.load_config \n",
    "import os\n",
    "import word2vec as w2v\n",
    "\n",
    "pp.setup()"
   ]
  },
  {
   "cell_type": "code",
   "execution_count": 2,
   "metadata": {
    "collapsed": false,
    "deletable": true,
    "editable": true
   },
   "outputs": [],
   "source": [
    "### define filepaths and names ###\n",
    "\n",
    "# where to get the configuration file corresponding to the embedding model\n",
    "config_data_dir = ''\n",
    "config_filename = 'configuration.json'\n",
    "\n",
    "\n",
    "# where to get the trained embedding model\n",
    "emb_model_dir = 'data/embeddings/'\n",
    "emb_model_filename = 'emb_model.bin'\n",
    "emb_model_src = os.path.join(emb_model_dir, emb_model_filename)\n",
    "\n",
    "\n",
    "# Load configuration (don't change)\n",
    "config_src = os.path.join(config_data_dir, config_filename)\n",
    "config = shared.load_config.Configuration(config_src)"
   ]
  },
  {
   "cell_type": "code",
   "execution_count": null,
   "metadata": {
    "collapsed": false,
    "deletable": true,
    "editable": true
   },
   "outputs": [],
   "source": [
    "### Validation of the embedding model ###\n",
    "\n",
    "# where to get the validation data\n",
    "config.config['val_data_dir'] = 'data/validation_data/'\n",
    "\n",
    "# Choose DOESNTFIT test file from your validation folder\n",
    "# note: - the doesntfit file has a 'question' on each line\n",
    "#       - a 'question' is of the format \n",
    "#       \n",
    "#         word_1 word_2 word_3 ... word_N word_not_fitting\n",
    "#        \n",
    "#         -> word_1 to word_N belong to a category but word_not_fitting doesn't\n",
    "# \n",
    "#         Example question:\n",
    "# \n",
    "#         Auto Motorrad Fahrrad Fußgänger\n",
    "#\n",
    "#\n",
    "config.config['doesntfit_file'] = 'german_doesntfit1.txt'\n",
    "\n",
    "\n",
    "# Choose SYNONYM test file from your validation folder\n",
    "# note: - the synonym file has a 'question' on each line\n",
    "#       - a 'question' is of the format \n",
    "#       \n",
    "#         word_1 word_2 \n",
    "#        \n",
    "#         -> word_1 and word_N are synonyms\n",
    "# \n",
    "#         Example question:\n",
    "# \n",
    "#         Blutgerinnsel Thrombus\n",
    "#\n",
    "# \n",
    "config.config['synonyms_file'] = 'german_synonyms3.txt'\n",
    "\n",
    "\n",
    "model = mv.validate_model(emb_model_src, config)"
   ]
  },
  {
   "cell_type": "code",
   "execution_count": 3,
   "metadata": {
    "collapsed": false,
    "deletable": true,
    "editable": true
   },
   "outputs": [
    {
     "name": "stdout",
     "output_type": "stream",
     "text": [
      "['asdf', 'asdf', 'abk', 'asdf', 'ein', 'arzt', 'bzw', 'eine', 'aerztin', 'ist', 'ein', 'medizinisch', 'ausgebildeter', 'heilkundiger', 'beschaeftigt', 'sich', 'mit', 'der', 'vorbeugung', 'praevention', 'erkennung', 'diagnose', 'behandlung', 'therapie', 'und', 'nachsorge', 'von', 'krankheiten', 'und', 'leiden', 'bzw', 'gesundheitlichen', 'beeintraechtigungen', 'und', 'stellt', 'sich', 'damit', 'in', 'den', 'dienst', 'der', 'gesundheit', 'stae', 'asdf']\n"
     ]
    }
   ],
   "source": [
    "### test your used tokenizer ###\n",
    "\n",
    "tokenizer = pp.get_tokenizer(config)\n",
    "example = \"\"\"!! „asdf“ 'asdf' abk. \"asdf\" ??Ein Arzt bzw. eine Ärztin ist ein medizinisch\\n \\n \n",
    "             ausgebildeter Heilkundiger, beschäftigt sich mit der\n",
    "             Vorbeugung (Prävention), [Erkennung] (Diagnose),\n",
    "             Behandlung (Therapie) [...] und Nachsorge von Krankheiten\n",
    "             und Leiden bzw. gesundheitlichen Beeinträchtigungen,\n",
    "             und stellt sich\">\n",
    "             damit in den Dienst der Gesundheit.\n",
    "             \n",
    "             stae-asdf\"\"\"\n",
    "             \n",
    "tk_example = tokenizer.tokenize(str(example))\n",
    "\n",
    "print(tk_example)"
   ]
  },
  {
   "cell_type": "code",
   "execution_count": null,
   "metadata": {
    "collapsed": false,
    "deletable": true,
    "editable": true
   },
   "outputs": [],
   "source": [
    "### Load model separately if desired ###\n",
    "model = w2v.load(emb_model_src)"
   ]
  },
  {
   "cell_type": "code",
   "execution_count": null,
   "metadata": {
    "collapsed": false,
    "deletable": true,
    "editable": true
   },
   "outputs": [],
   "source": [
    "### Get model information ###\n",
    "print(\"vocab_size:\", model.vocab.size)  # note that the token '</s>' is \n",
    "                                        # always added to the model\n",
    "    \n",
    "print(\"vectors_shape:\", model.vectors.shape)"
   ]
  },
  {
   "cell_type": "code",
   "execution_count": null,
   "metadata": {
    "collapsed": false,
    "deletable": true,
    "editable": true
   },
   "outputs": [],
   "source": [
    "### Play with model ###\n",
    "\n",
    "# define a word from which you like to see it's n-nearest neighbours \n",
    "# in the embedding space\n",
    "word = 'arzt'\n",
    "n_nearest_neighbours = 10\n",
    "\n",
    "# create list of neighbours\n",
    "indexes, metrics = model.cosine(word, n_nearest_neighbours)\n",
    "model.generate_response(indexes, metrics).tolist()"
   ]
  },
  {
   "cell_type": "code",
   "execution_count": null,
   "metadata": {
    "collapsed": false,
    "deletable": true,
    "editable": true
   },
   "outputs": [],
   "source": [
    "# Get a vector of a word\n",
    "vec1 = model['arzt'] \n",
    "# or\n",
    "vec2 = model.get_vector('arzt')\n",
    "\n",
    "print(vec1[:10])"
   ]
  },
  {
   "cell_type": "code",
   "execution_count": null,
   "metadata": {
    "collapsed": false,
    "deletable": true,
    "editable": true
   },
   "outputs": [],
   "source": [
    "### Visualization ###\n",
    "# From a list of words, plot all words and it's neighbours \n",
    "\n",
    "# define the words you would like to visualize\n",
    "word_list = ['arzt', 'haus', 'natur']\n",
    "\n",
    "# define the number of closest neighbors to display per word\n",
    "n_nearest_neighbours = 5\n",
    "\n",
    "# change figure size if desired\n",
    "width = 10.0\n",
    "height = 8.0\n",
    "pylab.rcParams['figure.figsize'] = (width, height)\n",
    "\n",
    "# plotting\n",
    "mv.visualize_words(model, word_list, n_nearest_neighbours)"
   ]
  },
  {
   "cell_type": "code",
   "execution_count": null,
   "metadata": {
    "collapsed": true,
    "deletable": true,
    "editable": true
   },
   "outputs": [],
   "source": []
  }
 ],
 "metadata": {
  "kernelspec": {
   "display_name": "Python 3",
   "language": "python",
   "name": "python3"
  },
  "language_info": {
   "codemirror_mode": {
    "name": "ipython",
    "version": 3
   },
   "file_extension": ".py",
   "mimetype": "text/x-python",
   "name": "python",
   "nbconvert_exporter": "python",
   "pygments_lexer": "ipython3",
   "version": "3.6.0"
  }
 },
 "nbformat": 4,
 "nbformat_minor": 0
}
